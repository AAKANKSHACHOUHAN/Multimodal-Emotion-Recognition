{
 "cells": [
  {
   "cell_type": "markdown",
   "metadata": {},
   "source": [
    "# <center> Speech Emotion Recognition <center>\n",
    "\n",
    "In this project I build a prevision model using machine learning and more precisely **Support Vector Machine** to detect a person’s emotions just by their voice. \n",
    "\n",
    "\n",
    "### Audio features:\n",
    "The complete list of the implemented short-term features is presented below:\n",
    "- **Zero Crossing Rate**: The rate of sign-changes of the signal during the duration of a particular frame.\n",
    "- **Energy**: The sum of squares of the signal values, normalized by the respective frame length.\n",
    "- **Entropy of Energy**: The entropy of sub-frames' normalized energies. It can be interpreted as a measure of abrupt changes.\n",
    "- **Spectral Centroid**: The center of gravity of the spectrum.\n",
    "- **Sprectral Spread**: The second central moment of the spectrum.\n",
    "- **Spectral Entropy**: Entropy of the normalized spectral energies for a set of sub-frames.\n",
    "- **Spectral Flux**: The squared difference between the normalized magnitudes of the spectra of the two successive frames.\n",
    "- **Spectral Rolloff**: The frequency below which 90% of the magnitude distribution of the spectrum is concentrated.\n",
    "- **MFCCS**: Mel Frequency Cepstral Coefficients form a cepstral representation where the frequency bands are not linear but distributed according to the mel-scale.\n",
    "\n",
    "Global Statistics computes on upper features:\n",
    "- **mean, std, med, kurt, skew, q1, q99, and range**\n",
    "\n",
    "\n",
    "### Data used:\n",
    "**RAVDESS**: The Ryerson Audio-Visual Database of Emotional Speech and Song (RAVDESS) contains 7356 files (total size: 24.8 GB). The database contains 24 professional actors (12 female, 12 male), vocalizing two lexically-matched statements in a neutral North American accent. Speech includes *calm*, *happy*, *sad*, *angry*, *fearful*, *surprise*, and *disgust* expressions, and song contains calm, happy, sad, angry, and fearful emotions. Each expression is produced at two levels of emotional intensity (normal, strong), with an additional neutral expression. (https://zenodo.org/record/1188976#.XA48aC17Q1J)"
   ]
  },
  {
   "cell_type": "markdown",
   "metadata": {},
   "source": [
    "## <center> Python Libraries <center> "
   ]
  },
  {
   "cell_type": "code",
   "execution_count": 2,
   "metadata": {
    "ExecuteTime": {
     "end_time": "2019-02-19T11:40:37.109454Z",
     "start_time": "2019-02-19T11:40:37.056037Z"
    }
   },
   "outputs": [],
   "source": [
    "from glob import glob\n",
    "import os\n",
    "\n",
    "import pickle\n",
    "import itertools\n",
    "import pandas as pd\n",
    "import numpy as np\n",
    "\n",
    "import matplotlib.pyplot as plt\n",
    "\n",
    "from sklearn.utils import shuffle\n",
    "from sklearn.model_selection import train_test_split\n",
    "from sklearn.preprocessing import LabelEncoder\n",
    "from sklearn.preprocessing import StandardScaler\n",
    "from sklearn.model_selection import KFold\n",
    "from sklearn.model_selection import GridSearchCV\n",
    "from sklearn.svm import SVC\n",
    "from sklearn.decomposition import PCA\n",
    "from sklearn.feature_selection import SelectKBest\n",
    "from sklearn.metrics import confusion_matrix\n",
    "\n",
    "from AudioLibrary.AudioSignal import *\n",
    "from AudioLibrary.AudioFeatures import *"
   ]
  },
  {
   "cell_type": "markdown",
   "metadata": {},
   "source": [
    "## <center> Data Preprocessing <center>"
   ]
  },
  {
   "cell_type": "markdown",
   "metadata": {
    "ExecuteTime": {
     "end_time": "2018-12-04T16:38:44.580314Z",
     "start_time": "2018-12-04T16:38:44.560062Z"
    }
   },
   "source": [
    "### Set labels"
   ]
  },
  {
   "cell_type": "code",
   "execution_count": 2,
   "metadata": {
    "ExecuteTime": {
     "end_time": "2019-02-19T10:30:39.801423Z",
     "start_time": "2019-02-19T10:30:39.796853Z"
    }
   },
   "outputs": [],
   "source": [
    "label_dict = {'02': 'neutral', '03':'happy', '04':'sad', '05':'angry', '06':'fearful', '07':'disgust', '08':'surprised'}\n",
    "\n",
    "# Set audio files labels\n",
    "def set_label(audio_file, gender_differentiation):\n",
    "    label = label_dict.get(audio_file[6:-16])\n",
    "    if gender_differentiation == True:\n",
    "        if int(audio_file[18:-4])%2 == 0: # Female\n",
    "            label = 'f_' + label\n",
    "        if int(audio_file[18:-4])%2 == 1: # Male\n",
    "            label = 'm_' + label\n",
    "    return label"
   ]
  },
  {
   "cell_type": "markdown",
   "metadata": {
    "ExecuteTime": {
     "end_time": "2018-12-04T17:10:51.478413Z",
     "start_time": "2018-12-04T17:10:51.475113Z"
    }
   },
   "source": [
    "### Extract audio features"
   ]
  },
  {
   "cell_type": "code",
   "execution_count": 3,
   "metadata": {
    "ExecuteTime": {
     "end_time": "2019-02-19T10:36:49.226015Z",
     "start_time": "2019-02-19T10:30:49.322689Z"
    },
    "scrolled": false
   },
   "outputs": [
    {
     "name": "stdout",
     "output_type": "stream",
     "text": [
      "Feature extraction: RUNNING ...\n",
      "Feature extraction: END!\n",
      "Number of audio files: 1344\n",
      "Number of features extracted: 201\n"
     ]
    }
   ],
   "source": [
    "# Start feature extraction\n",
    "print(\"Feature extraction: RUNNING ...\")\n",
    "\n",
    "# Initialize DataFrames for features and labels\n",
    "df_features = pd.DataFrame(columns=['features'])\n",
    "df_labels = pd.DataFrame(columns=['label'])\n",
    "\n",
    "# Features extraction parameters\n",
    "sample_rate = 44100 # Sample rate (44.1 kHz)\n",
    "win_size = 0.025 # Short term window size (25 msec)\n",
    "win_step = 0.01 # Short term window step (10 msec)\n",
    "stats = ['mean', 'std', 'med', 'kurt', 'skew', 'q1', 'q99', 'min', 'max', 'range'] # Global statistics\n",
    "features_list =  ['zcr', 'energy', 'energy_entropy', 'spectral_centroid', 'spectral_spread', # Audio features\n",
    "                      'spectral_entropy', 'spectral_flux', 'sprectral_rolloff']\n",
    "\n",
    "# Audio file names\n",
    "file_path = '../Datas/RAVDESS/'\n",
    "file_names = os.listdir(file_path)\n",
    "\n",
    "# Compute global statistics features for all audio file\n",
    "for audio_index, audio_file in enumerate(file_names):\n",
    "\n",
    "    # Select audio file\n",
    "    if audio_file[6:-16] in ['02', '03', '04', '05', '06', '07', '08']:\n",
    "        \n",
    "        # Read audio file\n",
    "        audio_signal = AudioSignal(sample_rate, filename=file_path + audio_file)\n",
    "    \n",
    "        # Extract features\n",
    "        audio_features = AudioFeatures(audio_signal, win_size, win_step)\n",
    "        features, features_names = audio_features.global_feature_extraction(stats=stats, features_list=features_list)\n",
    "    \n",
    "        # Add features to dataFrame\n",
    "        df_features.loc[audio_file] = [features]\n",
    "\n",
    "        # Set label\n",
    "        df_labels.loc[audio_file] = set_label(audio_file, True)\n",
    "        \n",
    "# Split features column in dataFrame\n",
    "df_features = pd.DataFrame(df_features['features'].values.tolist(),index=df_features.index.values, columns=features_names)\n",
    "\n",
    "# Concatenate Features and Label Dataframe\n",
    "df = pd.merge(df_features,df_labels, left_index=True, right_index=True)\n",
    "\n",
    "# Shuffle dataFrame\n",
    "df = shuffle(df)\n",
    "\n",
    "# Replace NA values\n",
    "df = df.fillna(0)\n",
    "\n",
    "# Stop feature extraction\n",
    "print(\"Feature extraction: END!\")\n",
    "print(\"Number of audio files: {}\".format(df.shape[0]))\n",
    "print(\"Number of features extracted: {}\".format(df.shape[1]))"
   ]
  },
  {
   "cell_type": "markdown",
   "metadata": {},
   "source": [
    "### Save features"
   ]
  },
  {
   "cell_type": "code",
   "execution_count": 5,
   "metadata": {
    "ExecuteTime": {
     "end_time": "2019-02-19T10:36:54.747080Z",
     "start_time": "2019-02-19T10:36:54.741645Z"
    }
   },
   "outputs": [],
   "source": [
    "# Save DataFrame to pickle\n",
    "df.to_pickle(\"../Datas/Pickle/[RAVDESS][HAP-SAD-NEU-ANG-FEA-DIS-SUR][HAMMING][mean-std-med-kurt-skew-q1-q99-min-max-range].pkl\")\n",
    "\n",
    "# Load DataFrame from pickle\n",
    "#df = pd.read_pickle(\"../Datas/Pickle/[RAVDESS][HAP-SAD-NEU-ANG-FEA-DIS-SUR][HAMMING][mean-std-med-kurt-skew-q1-q99-min-max-range].pkl\")"
   ]
  },
  {
   "cell_type": "markdown",
   "metadata": {},
   "source": [
    "## <center> Train and test Classifier <center>"
   ]
  },
  {
   "cell_type": "markdown",
   "metadata": {
    "code_folding": []
   },
   "source": [
    "### Build train and test dataset"
   ]
  },
  {
   "cell_type": "code",
   "execution_count": 6,
   "metadata": {
    "ExecuteTime": {
     "end_time": "2019-02-19T10:36:56.761659Z",
     "start_time": "2019-02-19T10:36:56.753334Z"
    }
   },
   "outputs": [],
   "source": [
    "# Build Train and test dataset\n",
    "X_train, X_test, y_train, y_test = train_test_split(df.drop(['label'], axis=1), df['label'], test_size=0.2, random_state=20)\n",
    "\n",
    "# Cast to array\n",
    "X_train, X_test = np.array(X_train), np.array(X_test)\n",
    "y_train, y_test = np.array(y_train), np.array(y_test)"
   ]
  },
  {
   "cell_type": "markdown",
   "metadata": {},
   "source": [
    "### Encode Label"
   ]
  },
  {
   "cell_type": "code",
   "execution_count": 7,
   "metadata": {
    "ExecuteTime": {
     "end_time": "2019-02-19T10:36:58.320300Z",
     "start_time": "2019-02-19T10:36:58.316969Z"
    }
   },
   "outputs": [],
   "source": [
    "# Encode Label from categorical to numerical\n",
    "lb = LabelEncoder()\n",
    "lb.fit(y_train)\n",
    "y_train, y_test = lb.transform(y_train), lb.transform(y_test)"
   ]
  },
  {
   "cell_type": "markdown",
   "metadata": {},
   "source": [
    "### Scale features"
   ]
  },
  {
   "cell_type": "code",
   "execution_count": 8,
   "metadata": {
    "ExecuteTime": {
     "end_time": "2019-02-19T10:37:00.658918Z",
     "start_time": "2019-02-19T10:37:00.652116Z"
    }
   },
   "outputs": [],
   "source": [
    "# Scale train and test dataset\n",
    "scaler = StandardScaler()\n",
    "X_train = scaler.fit_transform(X_train)\n",
    "X_test = scaler.transform(X_test)"
   ]
  },
  {
   "cell_type": "markdown",
   "metadata": {},
   "source": [
    "### Feature selection according to the k highest scores"
   ]
  },
  {
   "cell_type": "code",
   "execution_count": 9,
   "metadata": {
    "ExecuteTime": {
     "end_time": "2019-02-19T10:37:02.383067Z",
     "start_time": "2019-02-19T10:37:02.251580Z"
    }
   },
   "outputs": [
    {
     "name": "stderr",
     "output_type": "stream",
     "text": [
      "/anaconda3/envs/msbgd/lib/python3.6/site-packages/sklearn/feature_selection/univariate_selection.py:114: UserWarning: Features [146] are constant.\n",
      "  UserWarning)\n",
      "/anaconda3/envs/msbgd/lib/python3.6/site-packages/sklearn/feature_selection/univariate_selection.py:115: RuntimeWarning: invalid value encountered in true_divide\n",
      "  f = msb / msw\n"
     ]
    },
    {
     "data": {
      "image/png": "[encoded data removed]",
      "text/plain": [
       "<Figure size 720x360 with 1 Axes>"
      ]
     },
     "metadata": {
      "needs_background": "light"
     },
     "output_type": "display_data"
    },
    {
     "name": "stdout",
     "output_type": "stream",
     "text": [
      "Number of p-values > à 1% : 9\n"
     ]
    },
    {
     "name": "stderr",
     "output_type": "stream",
     "text": [
      "/anaconda3/envs/msbgd/lib/python3.6/site-packages/ipykernel_launcher.py:15: RuntimeWarning: invalid value encountered in greater\n",
      "  from ipykernel import kernelapp as app\n"
     ]
    }
   ],
   "source": [
    "# P-values analysis on features\n",
    "Kbest = SelectKBest(k=\"all\")\n",
    "selected_features = Kbest.fit(X_train, y_train)\n",
    "\n",
    "# Plot P-values\n",
    "plt.figure(figsize=(10,5))\n",
    "plt.plot(selected_features.pvalues_)\n",
    "plt.title(\"P-values for each features\")\n",
    "plt.xlabel(\"Features\")\n",
    "plt.ylabel(\"P-value\")\n",
    "plt.show()\n",
    "\n",
    "# Display Comment\n",
    "alpha = 0.01\n",
    "print(\"Number of p-values > à 1% : {}\".format(np.sum(selected_features.pvalues_ > alpha)))"
   ]
  },
  {
   "cell_type": "code",
   "execution_count": 10,
   "metadata": {
    "ExecuteTime": {
     "end_time": "2019-02-19T10:37:05.905456Z",
     "start_time": "2019-02-19T10:37:05.901577Z"
    }
   },
   "outputs": [
    {
     "name": "stderr",
     "output_type": "stream",
     "text": [
      "/anaconda3/envs/msbgd/lib/python3.6/site-packages/ipykernel_launcher.py:1: RuntimeWarning: invalid value encountered in less\n",
      "  \"\"\"Entry point for launching an IPython kernel.\n",
      "/anaconda3/envs/msbgd/lib/python3.6/site-packages/ipykernel_launcher.py:2: RuntimeWarning: invalid value encountered in less\n",
      "  \n"
     ]
    }
   ],
   "source": [
    "X_train = X_train[:,np.where(selected_features.pvalues_ < alpha)[0]]\n",
    "X_test = X_test[:,np.where(selected_features.pvalues_ < alpha)[0]]"
   ]
  },
  {
   "cell_type": "markdown",
   "metadata": {
    "ExecuteTime": {
     "end_time": "2019-01-15T15:50:31.107065Z",
     "start_time": "2019-01-15T15:50:31.016122Z"
    }
   },
   "source": [
    "### Feature dimension reduction using PCA"
   ]
  },
  {
   "cell_type": "code",
   "execution_count": 11,
   "metadata": {
    "ExecuteTime": {
     "end_time": "2019-02-19T10:37:09.154606Z",
     "start_time": "2019-02-19T10:37:09.013878Z"
    }
   },
   "outputs": [
    {
     "data": {
      "image/png": "[encoded data removed]",
      "text/plain": [
       "<Figure size 720x360 with 1 Axes>"
      ]
     },
     "metadata": {
      "needs_background": "light"
     },
     "output_type": "display_data"
    }
   ],
   "source": [
    "# Covariance matrix\n",
    "cov = pd.DataFrame(X_train).cov()\n",
    "\n",
    "# Eigen values of covariance matrix\n",
    "eig = np.linalg.svd(cov)[1]\n",
    "\n",
    "# Plot eigen graph\n",
    "fig = plt.figure(figsize=(10, 5))\n",
    "fig.suptitle('Decroissance des Valeurs Propres de la matrice de covariance', fontsize = 16)\n",
    "plt.plot(eig, label = \"eig-value\")\n",
    "plt.legend(loc = 'upper right')\n",
    "plt.show()"
   ]
  },
  {
   "cell_type": "code",
   "execution_count": 12,
   "metadata": {
    "ExecuteTime": {
     "end_time": "2019-02-19T10:37:11.956859Z",
     "start_time": "2019-02-19T10:37:11.911639Z"
    },
    "scrolled": true
   },
   "outputs": [],
   "source": [
    "# Initialize PCA\n",
    "pca = PCA(n_components=120)\n",
    "\n",
    "# Apply PCA on train and test set\n",
    "X_train = pca.fit_transform(X_train)\n",
    "X_test = pca.transform(X_test)"
   ]
  },
  {
   "cell_type": "markdown",
   "metadata": {},
   "source": [
    "### Cross-Validation and hyperparameter tuning"
   ]
  },
  {
   "cell_type": "code",
   "execution_count": 13,
   "metadata": {
    "ExecuteTime": {
     "end_time": "2019-02-19T10:37:46.114677Z",
     "start_time": "2019-02-19T10:37:14.183457Z"
    },
    "scrolled": false
   },
   "outputs": [
    {
     "name": "stdout",
     "output_type": "stream",
     "text": [
      "Fitting 3 folds for each of 54 candidates, totalling 162 fits\n"
     ]
    },
    {
     "name": "stderr",
     "output_type": "stream",
     "text": [
      "[Parallel(n_jobs=1)]: Using backend SequentialBackend with 1 concurrent workers.\n",
      "[Parallel(n_jobs=1)]: Done 162 out of 162 | elapsed:   31.7s finished\n",
      "/anaconda3/envs/msbgd/lib/python3.6/site-packages/sklearn/model_selection/_search.py:841: DeprecationWarning: The default of the `iid` parameter will change from True to False in version 0.22 and will be removed in 0.24. This will change numeric results when test-set sizes are unequal.\n",
      "  DeprecationWarning)\n"
     ]
    },
    {
     "name": "stdout",
     "output_type": "stream",
     "text": [
      "Best parameters set found on train set:\n",
      "{'C': 4, 'degree': 2, 'gamma': 0.005, 'kernel': 'rbf'}\n"
     ]
    }
   ],
   "source": [
    "# Set C and Gamma parameters list\n",
    "G_list = [0.001, 0.005, 0.01]\n",
    "C_list = [1, 2, 3, 4, 5, 7, 10, 20, 50]\n",
    "D_list = [2, 3]\n",
    "\n",
    "# Set the parameters for cross-validation\n",
    "parameters = [{'kernel': ['rbf'], 'C': C_list, 'gamma': G_list, 'degree':D_list}]\n",
    "\n",
    "# Initialize SVM model\n",
    "model = SVC(decision_function_shape='ovr')\n",
    "\n",
    "# Cross Validation \n",
    "cv = GridSearchCV(model, parameters, cv=3, verbose=1, n_jobs=-1).fit(X_train, y_train)\n",
    "\n",
    "# Print Best parameters\n",
    "print(\"Best parameters set found on train set:\")\n",
    "print(cv.best_params_)"
   ]
  },
  {
   "cell_type": "markdown",
   "metadata": {
    "ExecuteTime": {
     "end_time": "2018-12-10T07:46:30.172241Z",
     "start_time": "2018-12-10T07:46:30.165057Z"
    }
   },
   "source": [
    "### Best model prediction on test set"
   ]
  },
  {
   "cell_type": "code",
   "execution_count": 14,
   "metadata": {
    "ExecuteTime": {
     "end_time": "2019-02-19T10:37:50.279371Z",
     "start_time": "2019-02-19T10:37:50.272092Z"
    }
   },
   "outputs": [],
   "source": [
    "# Confusion matrix plot function\n",
    "def plot_confusion_matrix(cm, classes,\n",
    "                          normalize=False,\n",
    "                          title='Confusion matrix',\n",
    "                          cmap=plt.cm.Blues):\n",
    "    \"\"\"\n",
    "    This function prints and plots the confusion matrix.\n",
    "    Normalization can be applied by setting `normalize=True`.\n",
    "    \"\"\"\n",
    "    if normalize:\n",
    "        cm = cm.astype('float') / cm.sum(axis=1)[:, np.newaxis]\n",
    "\n",
    "    plt.imshow(cm, interpolation='nearest', cmap=cmap)\n",
    "    plt.title(title)\n",
    "    plt.colorbar()\n",
    "    tick_marks = np.arange(len(classes))\n",
    "    plt.xticks(tick_marks, classes, rotation=45)\n",
    "    plt.yticks(tick_marks, classes)\n",
    "\n",
    "    fmt = '.2f' if normalize else 'd'\n",
    "    thresh = cm.max() / 2.\n",
    "    for i, j in itertools.product(range(cm.shape[0]), range(cm.shape[1])):\n",
    "        plt.text(j, i, format(cm[i, j], fmt),\n",
    "                 horizontalalignment=\"center\",\n",
    "                 color=\"white\" if cm[i, j] > thresh else \"black\")\n",
    "\n",
    "    plt.ylabel('True label')\n",
    "    plt.xlabel('Predicted label')\n",
    "    plt.tight_layout()"
   ]
  },
  {
   "cell_type": "code",
   "execution_count": 19,
   "metadata": {
    "ExecuteTime": {
     "end_time": "2019-02-19T10:38:42.741730Z",
     "start_time": "2019-02-19T10:38:41.643602Z"
    },
    "scrolled": false
   },
   "outputs": [
    {
     "name": "stdout",
     "output_type": "stream",
     "text": [
      "Accuracy Score on test dataset: 73.61%\n"
     ]
    },
    {
     "data": {
      "image/png": "[encoded data removed]",
      "text/plain": [
       "<Figure size 720x720 with 2 Axes>"
      ]
     },
     "metadata": {
      "needs_background": "light"
     },
     "output_type": "display_data"
    }
   ],
   "source": [
    "# Fit best mode\n",
    "model = SVC(kernel='rbf', C=5, gamma=0.005, decision_function_shape='ovr').fit(X_train, y_train)\n",
    "\n",
    "# Prediction\n",
    "pred = model.predict(X_test)\n",
    "\n",
    "# Score\n",
    "score = model.score(X_test, y_test)\n",
    "\n",
    "# Reverse label encoder\n",
    "pred = (lb.inverse_transform((pred.astype(int).flatten())))\n",
    "actual = (lb.inverse_transform((y_test.astype(int).flatten())))\n",
    "\n",
    "# Build dataFrame\n",
    "df_pred = pd.DataFrame({'Actual': actual, 'Prediction': pred})\n",
    "\n",
    "# Print Score\n",
    "print('Accuracy Score on test dataset: {}%'.format(np.round(100 * score,2)))\n",
    "\n",
    "# Compute confusion matrix\n",
    "confusion = confusion_matrix(actual, pred)\n",
    "\n",
    "# Plot non-normalized confusion matrix\n",
    "plt.figure(figsize=(10, 10))\n",
    "plot_confusion_matrix(confusion, classes=set(actual),normalize=True,\n",
    "                      title='Confusion matrix on train set')"
   ]
  },
  {
   "cell_type": "markdown",
   "metadata": {
    "ExecuteTime": {
     "end_time": "2018-12-05T15:32:56.519212Z",
     "start_time": "2018-12-05T15:32:56.516534Z"
    }
   },
   "source": [
    "# Save model"
   ]
  },
  {
   "cell_type": "code",
   "execution_count": 20,
   "metadata": {
    "ExecuteTime": {
     "end_time": "2019-02-19T10:38:45.001209Z",
     "start_time": "2019-02-19T10:38:44.951789Z"
    }
   },
   "outputs": [],
   "source": [
    "# save the model to local\n",
    "pickle.dump(model, open('../Model/MODEL_CLASSIFIER.p', 'wb'))\n",
    "\n",
    "# Save label encoder\n",
    "pickle.dump(lb, open(\"../Model/MODEL_ENCODER.p\", \"wb\"))\n",
    "\n",
    "# Save PCA\n",
    "pickle.dump(pca, open(\"../Model/MODEL_PCA.p\", \"wb\"))\n",
    "\n",
    "# Save MEAN and STD of each features\n",
    "MEAN = []\n",
    "STD = []\n",
    "for col in df.columns:\n",
    "    if(col!='label'):\n",
    "        MEAN.append(df[col].mean())\n",
    "        STD.append(df[col].std())\n",
    "pickle.dump([MEAN, STD], open(\"../Model/MODEL_SCALER.p\", \"wb\"))\n",
    "\n",
    "# Save feature parameters\n",
    "stats = ['mean', 'std', 'kurt', 'skew', 'q1', 'q99']\n",
    "features_list = ['zcr', 'energy', 'energy_entropy', 'spectral_centroid', 'spectral_spread', 'spectral_entropy', 'spectral_flux', 'sprectral_rolloff']\n",
    "win_step = 0.01\n",
    "win_size = 0.025\n",
    "nb_mfcc = 12\n",
    "diff = 0\n",
    "PCA = False\n",
    "DICO = {'stats':stats, 'features_list':features_list, 'win_size':win_size, 'win_step':win_step, 'nb_mfcc':nb_mfcc, 'diff':diff, 'PCA':False}\n",
    "pickle.dump(DICO, open(\"../Model/MODEL_PARAM.p\", \"wb\"))"
   ]
  },
  {
   "cell_type": "code",
   "execution_count": null,
   "metadata": {},
   "outputs": [],
   "source": []
  }
 ],
 "metadata": {
  "kernelspec": {
   "display_name": "Python 3",
   "language": "python",
   "name": "python3"
  },
  "language_info": {
   "codemirror_mode": {
    "name": "ipython",
    "version": 3
   },
   "file_extension": ".py",
   "mimetype": "text/x-python",
   "name": "python",
   "nbconvert_exporter": "python",
   "pygments_lexer": "ipython3",
   "version": "3.6.8"
  },
  "toc": {
   "base_numbering": 1,
   "nav_menu": {},
   "number_sections": true,
   "sideBar": true,
   "skip_h1_title": false,
   "title_cell": "Table of Contents",
   "title_sidebar": "Contents",
   "toc_cell": false,
   "toc_position": {},
   "toc_section_display": true,
   "toc_window_display": false
  }
 },
 "nbformat": 4,
 "nbformat_minor": 2
}
